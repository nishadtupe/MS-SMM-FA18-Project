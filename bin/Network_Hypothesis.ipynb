{
 "cells": [
  {
   "cell_type": "code",
   "execution_count": 1,
   "metadata": {},
   "outputs": [
    {
     "name": "stdout",
     "output_type": "stream",
     "text": [
      "Players_assortive_Coefficient :  -0.2756538464222314\n",
      "Null_Model_assortive_Coefficient :  -0.16292692077879864\n"
     ]
    },
    {
     "data": {
      "image/png": "[encoded data removed]",
      "text/plain": [
       "<Figure size 864x576 with 1 Axes>"
      ]
     },
     "metadata": {},
     "output_type": "display_data"
    },
    {
     "name": "stdout",
     "output_type": "stream",
     "text": [
      "Statistical Significance Score for Comparing Players and Null Model\n",
      " -6.25223345599143\n"
     ]
    }
   ],
   "source": [
    "import networkx as nx\n",
    "import numpy as np\n",
    "import scipy.stats as stats\n",
    "import matplotlib.pyplot as plt\n",
    "%matplotlib inline \n",
    "def players_graph(G):\n",
    "            G=nx.Graph(G)\n",
    "            return G\n",
    "\n",
    "def assortativity(G):        \n",
    "            real_assortativity = nx.degree_assortativity_coefficient(G)\n",
    "            G_degree_sequence = [i[1] for i in nx.degree(G)]\n",
    "            model_assortativity = []\n",
    "            for i in range(100):\n",
    "                    #Use the configuration model to create a null graph\n",
    "                    null_graph = nx.configuration_model(G_degree_sequence) \n",
    "                    # Calculate the model's assortativity and add it to the list\n",
    "                    null_graph = nx.Graph(null_graph) # removes parallel edges\n",
    "                    null_graph.remove_edges_from(null_graph.selfloop_edges()) # removes self-loops\n",
    "                    model_assortativity.append(nx.degree_assortativity_coefficient(null_graph))\n",
    "            return real_assortativity,model_assortativity\n",
    "\n",
    "def main():\n",
    "            # Use the histogram function to plot the distribution of assortativity coefficients\n",
    "            G = nx.read_pajek(\"players.net\")\n",
    "            G = players_graph(G)\n",
    "            real_assortativity,model_assortativity = assortativity(G)               \n",
    "            print(\"Players_assortive_Coefficient : \",real_assortativity)\n",
    "            print(\"Null_Model_assortive_Coefficient : \",np.mean(model_assortativity))\n",
    "            plt.figure(figsize=(12,8))\n",
    "            plt.hist(model_assortativity, bins=20 ,align='mid')\n",
    "            # axvline produces a vertical line at the designated x position on the graph\n",
    "            plt.axvline(real_assortativity, lw=5, color=\"red\") #lw = 2 makes the line thicker\n",
    "            plt.show()\n",
    "            zscores_deg = stats.zscore([real_assortativity] + model_assortativity)\n",
    "            print(\"Statistical Significance Score for Comparing Players and Null Model\\n\", zscores_deg[0])\n",
    "main()                                 "
   ]
  }
 ],
 "metadata": {
  "kernelspec": {
   "display_name": "Python 3",
   "language": "python",
   "name": "python3"
  },
  "language_info": {
   "codemirror_mode": {
    "name": "ipython",
    "version": 3
   },
   "file_extension": ".py",
   "mimetype": "text/x-python",
   "name": "python",
   "nbconvert_exporter": "python",
   "pygments_lexer": "ipython3",
   "version": "3.6.5"
  }
 },
 "nbformat": 4,
 "nbformat_minor": 2
}
